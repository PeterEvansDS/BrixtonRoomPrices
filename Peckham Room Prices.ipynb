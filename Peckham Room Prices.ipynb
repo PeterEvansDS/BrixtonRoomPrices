{
 "cells": [
  {
   "cell_type": "markdown",
   "id": "cf8e3a38",
   "metadata": {},
   "source": [
    "# Peckham Room Prices\n",
    "\n",
    "This notebook is used to implement a regression model, designed to predict the going rate of rooms in shared houses in the London district of Peckham. The data is dynamically scraped from [SpareRoom](https://spareroom.co.uk)."
   ]
  },
  {
   "cell_type": "code",
   "execution_count": null,
   "id": "675341f6",
   "metadata": {},
   "outputs": [],
   "source": []
  }
 ],
 "metadata": {
  "kernelspec": {
   "display_name": "Python 3",
   "language": "python",
   "name": "python3"
  },
  "language_info": {
   "codemirror_mode": {
    "name": "ipython",
    "version": 3
   },
   "file_extension": ".py",
   "mimetype": "text/x-python",
   "name": "python",
   "nbconvert_exporter": "python",
   "pygments_lexer": "ipython3",
   "version": "3.8.2"
  }
 },
 "nbformat": 4,
 "nbformat_minor": 5
}

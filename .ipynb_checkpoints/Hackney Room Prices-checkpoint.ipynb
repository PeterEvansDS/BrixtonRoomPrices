{
 "cells": [
  {
   "cell_type": "markdown",
   "id": "cf8e3a38",
   "metadata": {},
   "source": [
    "# Hackney Room Prices\n",
    "\n",
    "This notebook is used to implement a regression model, designed to predict the going rate of rooms in shared houses in the London borough of Hackney. The data is scraped from [SpareRoom](https://spareroom.co.uk)."
   ]
  },
  {
   "cell_type": "markdown",
   "id": "ca4a96af",
   "metadata": {},
   "source": [
    "The project will use custom built classes and functions. These will be written in a text editor / IDE for convenience, and the `autoreload` method below ensures that the notebook does not have to be restarted every time this code is altered."
   ]
  },
  {
   "cell_type": "code",
   "execution_count": null,
   "id": "f464c5d2",
   "metadata": {},
   "outputs": [],
   "source": [
    "%load_ext autoreload\n",
    "%autoreload 2"
   ]
  },
  {
   "cell_type": "markdown",
   "id": "1c41e858",
   "metadata": {},
   "source": [
    "## Load Packages"
   ]
  },
  {
   "cell_type": "code",
   "execution_count": null,
   "id": "411b7568",
   "metadata": {},
   "outputs": [],
   "source": [
    "import pandas as pd\n",
    "pd.set_option('display.max_columns', None)"
   ]
  },
  {
   "cell_type": "markdown",
   "id": "156e02bc",
   "metadata": {},
   "source": [
    "## Scraping the Data"
   ]
  },
  {
   "cell_type": "code",
   "execution_count": null,
   "id": "103ce078",
   "metadata": {},
   "outputs": [],
   "source": [
    "from scrape import SpareRoomScraper\n",
    "\n",
    "scraper = SpareRoomScraper()\n",
    "df = scraper.get_data()\n",
    "df.head(60)"
   ]
  },
  {
   "cell_type": "code",
   "execution_count": null,
   "id": "3e811070",
   "metadata": {},
   "outputs": [],
   "source": [
    "df.to_feather('./data/peckham.feather')"
   ]
  },
  {
   "cell_type": "markdown",
   "id": "b148c9ac",
   "metadata": {},
   "source": [
    "## Preprocess"
   ]
  },
  {
   "cell_type": "code",
   "execution_count": null,
   "id": "51f23488",
   "metadata": {},
   "outputs": [],
   "source": [
    "df = pd.read_feather('./data/peckham.feather')"
   ]
  },
  {
   "cell_type": "markdown",
   "id": "4b711b80",
   "metadata": {},
   "source": [
    "The preprocessing steps are undertaken by the `DataFrameTransformer` class. These include:\n",
    "\n",
    "  - The removal of all listings that are whole properties rather than individual rooms\n",
    "  - The extraction of separation of distinct pieces of information within some features into their own separate features. E.g. the original `price` feature is split into the the price value, the rate (p/w or pcm) and whether or not the room has an ensuite.\n",
    "  - Transformation of some features into a more useful form - `availability` is transformed into `available_in` which is simply and integer of the number of days between the current day and the room's availability date.\n",
    "  - Encoding of Yes/No features in a binary format, and other categorical features in a one-hot format where appropriate\n",
    "  \n",
    "for more detail see `transformers.py`\n",
    "  "
   ]
  },
  {
   "cell_type": "code",
   "execution_count": null,
   "id": "8044fe15",
   "metadata": {},
   "outputs": [],
   "source": [
    "from transformers import DataFrameTransformer\n",
    "t = DataFrameTransformer()\n",
    "df = t.fit_transform(df)\n",
    "df.head(60)"
   ]
  },
  {
   "cell_type": "code",
   "execution_count": null,
   "id": "c6a178e6",
   "metadata": {},
   "outputs": [],
   "source": [
    "import pandas as pd\n",
    "pd.set_option('display.max_columns', None)\n",
    "df.head(20)"
   ]
  },
  {
   "cell_type": "code",
   "execution_count": null,
   "id": "0757a099",
   "metadata": {},
   "outputs": [],
   "source": [
    "df.living_room.value_counts()"
   ]
  },
  {
   "cell_type": "code",
   "execution_count": null,
   "id": "e15e1030",
   "metadata": {},
   "outputs": [],
   "source": [
    "df.area.value_counts()"
   ]
  },
  {
   "cell_type": "code",
   "execution_count": null,
   "id": "e8c39dbd",
   "metadata": {},
   "outputs": [],
   "source": []
  }
 ],
 "metadata": {
  "kernelspec": {
   "display_name": "Python 3 (ipykernel)",
   "language": "python",
   "name": "python3"
  },
  "language_info": {
   "codemirror_mode": {
    "name": "ipython",
    "version": 3
   },
   "file_extension": ".py",
   "mimetype": "text/x-python",
   "name": "python",
   "nbconvert_exporter": "python",
   "pygments_lexer": "ipython3",
   "version": "3.9.7"
  }
 },
 "nbformat": 4,
 "nbformat_minor": 5
}

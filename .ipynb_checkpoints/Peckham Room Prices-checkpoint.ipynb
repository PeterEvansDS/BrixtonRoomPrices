{
 "cells": [
  {
   "cell_type": "markdown",
   "id": "cf8e3a38",
   "metadata": {},
   "source": [
    "# Peckham Room Prices\n",
    "\n",
    "This notebook is used to implement a regression model, designed to predict the going rate of rooms in shared houses in the London district of Peckham. The data is scraped from [SpareRoom](https://spareroom.co.uk)."
   ]
  },
  {
   "cell_type": "markdown",
   "id": "ca4a96af",
   "metadata": {},
   "source": [
    "The project will use custom built classes and functions. These will be written in a text editor / IDE for convenience, and the `autoreload` method below ensures that the notebook does not have to be restarted every time this code is altered."
   ]
  },
  {
   "cell_type": "code",
   "execution_count": 1,
   "id": "f464c5d2",
   "metadata": {},
   "outputs": [],
   "source": [
    "%load_ext autoreload\n",
    "%autoreload 2"
   ]
  },
  {
   "cell_type": "markdown",
   "id": "156e02bc",
   "metadata": {},
   "source": [
    "## Scraping the Data"
   ]
  },
  {
   "cell_type": "code",
   "execution_count": 23,
   "id": "103ce078",
   "metadata": {},
   "outputs": [
    {
     "data": {
      "text/plain": [
       "0        0-5 minutes walk away\n",
       "1        0-5 minutes walk away\n",
       "2       5-10 minutes walk away\n",
       "3                         None\n",
       "4                         None\n",
       "5     5-10 minutes by bus away\n",
       "6        0-5 minutes walk away\n",
       "7        0-5 minutes walk away\n",
       "8      10-15 minutes walk away\n",
       "9                         None\n",
       "11    5-10 minutes by bus away\n",
       "13       0-5 minutes walk away\n",
       "14                        None\n",
       "15     10-15 minutes walk away\n",
       "16       0-5 minutes walk away\n",
       "17      5-10 minutes walk away\n",
       "18                        None\n",
       "19      5-10 minutes walk away\n",
       "20                        None\n",
       "21       0-5 minutes walk away\n",
       "22       0-5 minutes walk away\n",
       "23                        None\n",
       "24      5-10 minutes walk away\n",
       "25       0-5 minutes walk away\n",
       "26      5-10 minutes walk away\n",
       "27      5-10 minutes walk away\n",
       "28      5-10 minutes walk away\n",
       "29                        None\n",
       "30      5-10 minutes walk away\n",
       "31       0-5 minutes walk away\n",
       "34      5-10 minutes walk away\n",
       "35       0-5 minutes walk away\n",
       "36       0-5 minutes walk away\n",
       "39     10-15 minutes walk away\n",
       "40                        None\n",
       "41     10-15 minutes walk away\n",
       "42      5-10 minutes walk away\n",
       "43     10-15 minutes walk away\n",
       "44                        None\n",
       "45     10-15 minutes walk away\n",
       "46     0-5 minutes by bus away\n",
       "47      5-10 minutes walk away\n",
       "48                        None\n",
       "49      5-10 minutes walk away\n",
       "50                        None\n",
       "51      5-10 minutes walk away\n",
       "52     10-15 minutes walk away\n",
       "53                        None\n",
       "54     10-15 minutes walk away\n",
       "55    5-10 minutes by bus away\n",
       "56      5-10 minutes walk away\n",
       "57                        None\n",
       "58    5-10 minutes by bus away\n",
       "59      5-10 minutes walk away\n",
       "60      5-10 minutes walk away\n",
       "61     10-15 minutes walk away\n",
       "62     15-20 minutes walk away\n",
       "63       0-5 minutes walk away\n",
       "64                        None\n",
       "65      5-10 minutes walk away\n",
       "Name: distance_to_station, dtype: object"
      ]
     },
     "execution_count": 23,
     "metadata": {},
     "output_type": "execute_result"
    }
   ],
   "source": [
    "from scrape import SpareRoomScraper\n",
    "\n",
    "scraper = SpareRoomScraper()\n",
    "df = scraper.get_data(num_listings = 10)\n",
    "df.head(60)"
   ]
  },
  {
   "cell_type": "code",
   "execution_count": null,
   "id": "b05c3d46",
   "metadata": {},
   "outputs": [],
   "source": [
    "scraper.save_data(df)"
   ]
  },
  {
   "cell_type": "code",
   "execution_count": 24,
   "id": "77d52cd7",
   "metadata": {},
   "outputs": [
    {
     "data": {
      "text/plain": [
       "0-5 minutes walk away        55\n",
       "5-10 minutes walk away       52\n",
       "10-15 minutes walk away      19\n",
       "5-10 minutes by bus away     11\n",
       "10-15 minutes by bus away     3\n",
       "15-20 minutes walk away       2\n",
       "0-5 minutes by bus away       1\n",
       "15-20 minutes by bus away     1\n",
       "0-5 minutes away              1\n",
       "0-5 minutes by car away       1\n",
       "Name: distance_to_station, dtype: int64"
      ]
     },
     "execution_count": 24,
     "metadata": {},
     "output_type": "execute_result"
    }
   ],
   "source": [
    "df.distance_to_station.value_counts()"
   ]
  },
  {
   "cell_type": "code",
   "execution_count": null,
   "id": "46d31b95",
   "metadata": {},
   "outputs": [],
   "source": []
  }
 ],
 "metadata": {
  "kernelspec": {
   "display_name": "Python 3 (ipykernel)",
   "language": "python",
   "name": "python3"
  },
  "language_info": {
   "codemirror_mode": {
    "name": "ipython",
    "version": 3
   },
   "file_extension": ".py",
   "mimetype": "text/x-python",
   "name": "python",
   "nbconvert_exporter": "python",
   "pygments_lexer": "ipython3",
   "version": "3.9.7"
  }
 },
 "nbformat": 4,
 "nbformat_minor": 5
}

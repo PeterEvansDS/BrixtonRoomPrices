{
 "cells": [
  {
   "cell_type": "markdown",
   "id": "cf8e3a38",
   "metadata": {},
   "source": [
    "# Peckham Room Prices\n",
    "\n",
    "This notebook is used to implement a regression model, designed to predict the going rate of rooms in shared houses in the London district of Peckham. The data is dynamically scraped from [SpareRoom](https://spareroom.co.uk)."
   ]
  },
  {
   "cell_type": "markdown",
   "id": "ca4a96af",
   "metadata": {},
   "source": [
    "The project will use custom built classes and functions. These will be written in a text editor / IDE for convenience, and the `autoreload` method below ensures that the notebook does not have to be restarted every time this code is altered."
   ]
  },
  {
   "cell_type": "code",
   "execution_count": 2,
   "id": "f464c5d2",
   "metadata": {},
   "outputs": [],
   "source": [
    "%load_ext autoreload\n",
    "%autoreload 2"
   ]
  },
  {
   "cell_type": "markdown",
   "id": "156e02bc",
   "metadata": {},
   "source": [
    "## Scraping the Data"
   ]
  },
  {
   "cell_type": "code",
   "execution_count": 121,
   "id": "103ce078",
   "metadata": {},
   "outputs": [
    {
     "data": {
      "text/plain": [
       "{'ad_ref': '\\n    \\n  \\n  \\n  Ad ref# 16047526\\n  \\n  \\n    \\n    ',\n",
       " 'area': 'Peckham',\n",
       " 'available': '16 Feb 2022',\n",
       " 'balcony': 'Yes',\n",
       " 'bills': 'Some',\n",
       " 'broadband': 'Yes',\n",
       " 'deposit': '£716.00',\n",
       " 'disabled_access': '',\n",
       " 'furnished': 'Furnished',\n",
       " 'house_type': 'Flat share',\n",
       " 'living_room': 'shared',\n",
       " 'max_term': 'None',\n",
       " 'min_term': 'None',\n",
       " 'num_flatmates': '2',\n",
       " 'postcode': 'SE15 Area info',\n",
       " 'price': '£591 pcm (double)'}"
      ]
     },
     "execution_count": 121,
     "metadata": {},
     "output_type": "execute_result"
    }
   ],
   "source": [
    "from scrape import WebsiteScraper\n",
    "\n",
    "scraper = WebsiteScraper()\n",
    "scraper.extract_listings()"
   ]
  },
  {
   "cell_type": "code",
   "execution_count": null,
   "id": "81725405",
   "metadata": {},
   "outputs": [],
   "source": []
  }
 ],
 "metadata": {
  "kernelspec": {
   "display_name": "Python 3 (ipykernel)",
   "language": "python",
   "name": "python3"
  },
  "language_info": {
   "codemirror_mode": {
    "name": "ipython",
    "version": 3
   },
   "file_extension": ".py",
   "mimetype": "text/x-python",
   "name": "python",
   "nbconvert_exporter": "python",
   "pygments_lexer": "ipython3",
   "version": "3.9.7"
  }
 },
 "nbformat": 4,
 "nbformat_minor": 5
}
